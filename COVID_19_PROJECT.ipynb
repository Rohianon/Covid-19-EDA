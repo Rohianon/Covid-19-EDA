{
  "nbformat": 4,
  "nbformat_minor": 0,
  "metadata": {
    "colab": {
      "name": "COVID-19 PROJECT",
      "provenance": [],
      "include_colab_link": true
    },
    "kernelspec": {
      "name": "python3",
      "display_name": "Python 3"
    }
  },
  "cells": [
    {
      "cell_type": "markdown",
      "metadata": {
        "id": "view-in-github",
        "colab_type": "text"
      },
      "source": [
        "<a href=\"https://colab.research.google.com/github/Rohianon/Covid-19-EDA/blob/InitialProcess/COVID_19_PROJECT.ipynb\" target=\"_parent\"><img src=\"https://colab.research.google.com/assets/colab-badge.svg\" alt=\"Open In Colab\"/></a>"
      ]
    },
    {
      "cell_type": "code",
      "metadata": {
        "id": "O4gHm0vK76E5",
        "colab_type": "code",
        "colab": {}
      },
      "source": [
        "import pandas as pd\n",
        "import csv\n",
        "import numpy as np"
      ],
      "execution_count": 0,
      "outputs": []
    },
    {
      "cell_type": "code",
      "metadata": {
        "id": "3VQKEETT8S_g",
        "colab_type": "code",
        "colab": {}
      },
      "source": [
        "cases = pd.read_csv('/content/time_series_covid19_confirmed_global.csv')\n",
        "cases.head(10)\n"
      ],
      "execution_count": 0,
      "outputs": []
    },
    {
      "cell_type": "code",
      "metadata": {
        "id": "k5njam3h-kTF",
        "colab_type": "code",
        "colab": {}
      },
      "source": [
        "cases.info(\n",
        "    \n",
        ")"
      ],
      "execution_count": 0,
      "outputs": []
    }
  ]
}